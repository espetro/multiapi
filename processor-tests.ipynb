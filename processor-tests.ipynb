{
 "cells": [
  {
   "cell_type": "markdown",
   "id": "049d7017",
   "metadata": {},
   "source": [
    "## Trends Processor tests"
   ]
  },
  {
   "cell_type": "code",
   "execution_count": 69,
   "id": "441ad8ea",
   "metadata": {},
   "outputs": [
    {
     "data": {
      "text/html": [
       "<div>\n",
       "<style scoped>\n",
       "    .dataframe tbody tr th:only-of-type {\n",
       "        vertical-align: middle;\n",
       "    }\n",
       "\n",
       "    .dataframe tbody tr th {\n",
       "        vertical-align: top;\n",
       "    }\n",
       "\n",
       "    .dataframe thead th {\n",
       "        text-align: right;\n",
       "    }\n",
       "</style>\n",
       "<table border=\"1\" class=\"dataframe\">\n",
       "  <thead>\n",
       "    <tr style=\"text-align: right;\">\n",
       "      <th></th>\n",
       "      <th>motomami</th>\n",
       "      <th>isPartial</th>\n",
       "    </tr>\n",
       "    <tr>\n",
       "      <th>date</th>\n",
       "      <th></th>\n",
       "      <th></th>\n",
       "    </tr>\n",
       "  </thead>\n",
       "  <tbody>\n",
       "    <tr>\n",
       "      <th>2022-01-01</th>\n",
       "      <td>8</td>\n",
       "      <td>False</td>\n",
       "    </tr>\n",
       "    <tr>\n",
       "      <th>2022-01-02</th>\n",
       "      <td>18</td>\n",
       "      <td>False</td>\n",
       "    </tr>\n",
       "    <tr>\n",
       "      <th>2022-01-03</th>\n",
       "      <td>26</td>\n",
       "      <td>False</td>\n",
       "    </tr>\n",
       "    <tr>\n",
       "      <th>2022-01-04</th>\n",
       "      <td>10</td>\n",
       "      <td>False</td>\n",
       "    </tr>\n",
       "    <tr>\n",
       "      <th>2022-01-05</th>\n",
       "      <td>16</td>\n",
       "      <td>False</td>\n",
       "    </tr>\n",
       "  </tbody>\n",
       "</table>\n",
       "</div>"
      ],
      "text/plain": [
       "            motomami  isPartial\n",
       "date                           \n",
       "2022-01-01         8      False\n",
       "2022-01-02        18      False\n",
       "2022-01-03        26      False\n",
       "2022-01-04        10      False\n",
       "2022-01-05        16      False"
      ]
     },
     "execution_count": 69,
     "metadata": {},
     "output_type": "execute_result"
    }
   ],
   "source": [
    "from datetime import datetime\n",
    "\n",
    "from pytrends.request import TrendReq\n",
    "\n",
    "search_tool = TrendReq(hl='en-US', tz=360)\n",
    "\n",
    "timeframe = f\"2022-01-01 2022-02-05\"\n",
    "\n",
    "search_tool.build_payload(kw_list=[\"motomami\"], timeframe=timeframe)\n",
    "data = search_tool.interest_over_time()\n",
    "\n",
    "data.head(5)"
   ]
  },
  {
   "cell_type": "code",
   "execution_count": 89,
   "id": "c0c603ce",
   "metadata": {},
   "outputs": [
    {
     "data": {
      "text/plain": [
       "[(Timestamp('2022-01-01 00:00:00'), [8]),\n",
       " (Timestamp('2022-01-02 00:00:00'), [18]),\n",
       " (Timestamp('2022-01-03 00:00:00'), [26]),\n",
       " (Timestamp('2022-01-04 00:00:00'), [10]),\n",
       " (Timestamp('2022-01-05 00:00:00'), [16]),\n",
       " (Timestamp('2022-01-06 00:00:00'), [19]),\n",
       " (Timestamp('2022-01-07 00:00:00'), [13]),\n",
       " (Timestamp('2022-01-08 00:00:00'), [9]),\n",
       " (Timestamp('2022-01-09 00:00:00'), [15]),\n",
       " (Timestamp('2022-01-10 00:00:00'), [10]),\n",
       " (Timestamp('2022-01-11 00:00:00'), [9]),\n",
       " (Timestamp('2022-01-12 00:00:00'), [16]),\n",
       " (Timestamp('2022-01-13 00:00:00'), [7]),\n",
       " (Timestamp('2022-01-14 00:00:00'), [3]),\n",
       " (Timestamp('2022-01-15 00:00:00'), [11]),\n",
       " (Timestamp('2022-01-16 00:00:00'), [11]),\n",
       " (Timestamp('2022-01-17 00:00:00'), [15]),\n",
       " (Timestamp('2022-01-18 00:00:00'), [9]),\n",
       " (Timestamp('2022-01-19 00:00:00'), [27]),\n",
       " (Timestamp('2022-01-20 00:00:00'), [27]),\n",
       " (Timestamp('2022-01-21 00:00:00'), [20]),\n",
       " (Timestamp('2022-01-22 00:00:00'), [14]),\n",
       " (Timestamp('2022-01-23 00:00:00'), [20]),\n",
       " (Timestamp('2022-01-24 00:00:00'), [9]),\n",
       " (Timestamp('2022-01-25 00:00:00'), [11]),\n",
       " (Timestamp('2022-01-26 00:00:00'), [7]),\n",
       " (Timestamp('2022-01-27 00:00:00'), [8]),\n",
       " (Timestamp('2022-01-28 00:00:00'), [9]),\n",
       " (Timestamp('2022-01-29 00:00:00'), [6]),\n",
       " (Timestamp('2022-01-30 00:00:00'), [9]),\n",
       " (Timestamp('2022-01-31 00:00:00'), [21]),\n",
       " (Timestamp('2022-02-01 00:00:00'), [100]),\n",
       " (Timestamp('2022-02-02 00:00:00'), [50]),\n",
       " (Timestamp('2022-02-03 00:00:00'), [48]),\n",
       " (Timestamp('2022-02-04 00:00:00'), [84]),\n",
       " (Timestamp('2022-02-05 00:00:00'), [43])]"
      ]
     },
     "execution_count": 89,
     "metadata": {},
     "output_type": "execute_result"
    }
   ],
   "source": [
    "u = data.iloc[:, :1]\n",
    "t = list(zip(u.index.tolist(), u.values.tolist()))\n",
    "t"
   ]
  },
  {
   "cell_type": "code",
   "execution_count": 85,
   "id": "28f58a0a",
   "metadata": {},
   "outputs": [
    {
     "data": {
      "text/plain": [
       "[(Timestamp('2022-01-01 00:00:00'), 8),\n",
       " (Timestamp('2022-01-02 00:00:00'), 18),\n",
       " (Timestamp('2022-01-03 00:00:00'), 26),\n",
       " (Timestamp('2022-01-04 00:00:00'), 10),\n",
       " (Timestamp('2022-01-05 00:00:00'), 16),\n",
       " (Timestamp('2022-01-06 00:00:00'), 19),\n",
       " (Timestamp('2022-01-07 00:00:00'), 13),\n",
       " (Timestamp('2022-01-08 00:00:00'), 9),\n",
       " (Timestamp('2022-01-09 00:00:00'), 15),\n",
       " (Timestamp('2022-01-10 00:00:00'), 10),\n",
       " (Timestamp('2022-01-11 00:00:00'), 9),\n",
       " (Timestamp('2022-01-12 00:00:00'), 16),\n",
       " (Timestamp('2022-01-13 00:00:00'), 7),\n",
       " (Timestamp('2022-01-14 00:00:00'), 3),\n",
       " (Timestamp('2022-01-15 00:00:00'), 11),\n",
       " (Timestamp('2022-01-16 00:00:00'), 11),\n",
       " (Timestamp('2022-01-17 00:00:00'), 15),\n",
       " (Timestamp('2022-01-18 00:00:00'), 9),\n",
       " (Timestamp('2022-01-19 00:00:00'), 27),\n",
       " (Timestamp('2022-01-20 00:00:00'), 27),\n",
       " (Timestamp('2022-01-21 00:00:00'), 20),\n",
       " (Timestamp('2022-01-22 00:00:00'), 14),\n",
       " (Timestamp('2022-01-23 00:00:00'), 20),\n",
       " (Timestamp('2022-01-24 00:00:00'), 9),\n",
       " (Timestamp('2022-01-25 00:00:00'), 11),\n",
       " (Timestamp('2022-01-26 00:00:00'), 7),\n",
       " (Timestamp('2022-01-27 00:00:00'), 8),\n",
       " (Timestamp('2022-01-28 00:00:00'), 9),\n",
       " (Timestamp('2022-01-29 00:00:00'), 6),\n",
       " (Timestamp('2022-01-30 00:00:00'), 9),\n",
       " (Timestamp('2022-01-31 00:00:00'), 21),\n",
       " (Timestamp('2022-02-01 00:00:00'), 100),\n",
       " (Timestamp('2022-02-02 00:00:00'), 50),\n",
       " (Timestamp('2022-02-03 00:00:00'), 48),\n",
       " (Timestamp('2022-02-04 00:00:00'), 84),\n",
       " (Timestamp('2022-02-05 00:00:00'), 43)]"
      ]
     },
     "execution_count": 85,
     "metadata": {},
     "output_type": "execute_result"
    }
   ],
   "source": [
    "list(t[0][1].items())"
   ]
  },
  {
   "cell_type": "markdown",
   "id": "01a1214e",
   "metadata": {},
   "source": [
    "## Weather Processor tests"
   ]
  },
  {
   "cell_type": "code",
   "execution_count": 1,
   "id": "7440f2bf",
   "metadata": {},
   "outputs": [],
   "source": [
    "from ipregistry import IpregistryClient\n",
    "\n",
    "ip_registry = IpregistryClient(\"1qanqdhes62xy30u\")"
   ]
  },
  {
   "cell_type": "code",
   "execution_count": 3,
   "id": "99ed0078",
   "metadata": {},
   "outputs": [
    {
     "data": {
      "text/plain": [
       "'Valencia'"
      ]
     },
     "execution_count": 3,
     "metadata": {},
     "output_type": "execute_result"
    }
   ],
   "source": [
    "ip_info = ip_registry.lookup()\n",
    "location = ip_info.location['city']\n",
    "location"
   ]
  },
  {
   "cell_type": "code",
   "execution_count": 14,
   "id": "6bd11789",
   "metadata": {},
   "outputs": [
    {
     "data": {
      "text/plain": [
       "'88.19.68.241'"
      ]
     },
     "execution_count": 14,
     "metadata": {},
     "output_type": "execute_result"
    }
   ],
   "source": [
    "ip_info.ip"
   ]
  },
  {
   "cell_type": "code",
   "execution_count": 160,
   "id": "84a56ab3",
   "metadata": {},
   "outputs": [],
   "source": [
    "from datetime import datetime, timedelta\n",
    "import httpx\n",
    "\n",
    "client = httpx.Client(base_url=\"http://api.weatherapi.com/v1\")"
   ]
  },
  {
   "cell_type": "code",
   "execution_count": 161,
   "id": "b4ec8704",
   "metadata": {},
   "outputs": [],
   "source": [
    "def get_weather_data_for_days(start_date: datetime, number_of_days: int) -> list:\n",
    "    result = []\n",
    "    \n",
    "    for date in [start_date - timedelta(days=n) for n in range(number_of_days)]:\n",
    "        date_str = date.strftime(\"%Y-%m-%d\")\n",
    "\n",
    "        query_parameters = {\n",
    "            \"key\": \"8922824f4009452591b104033221204\",\n",
    "            \"q\": f\"{ip_info.location['latitude']},{ip_info.location['longitude']}\",\n",
    "            \"dt\": date_str\n",
    "        }\n",
    "\n",
    "        response = client.get(\"/history.xml\", params=query_parameters)\n",
    "        response.raise_for_status()\n",
    "        result.append(response.text)\n",
    "    \n",
    "    return result\n",
    "    \n",
    "data = get_weather_data_for_days(datetime.now(), 7)"
   ]
  },
  {
   "cell_type": "code",
   "execution_count": 162,
   "id": "d09ed466",
   "metadata": {},
   "outputs": [
    {
     "name": "stdout",
     "output_type": "stream",
     "text": [
      "<?xml version=\"1.0\" encoding=\"utf-8\"?><root><location><name>Campanar</name><region>Comunidad Valenciana</region><country>Spain</country><lat>39.49</lat><lon>-0.4</lon><tz_id>Europe/Madrid</tz_id><localtime_epoch>1649776322</localtime_epoch><localtime>2022-04-12 17:12</localtime></location><forecast><forecastday><date>2022-04-07</date><date_epoch>1649289600</date_epoch><day><maxtemp_c>26.7</maxtemp_c><maxtemp_f>80.1</maxtemp_f><mintemp_c>9.2</mintemp_c><mintemp_f>48.6</mintemp_f><avgtemp_c>20.1</avgtemp_c><avgtemp_f>68.1</avgtemp_f><maxwind_mph>17</maxwind_mph><maxwind_kph>27.4</maxwind_kph><totalprecip_mm>0</totalprecip_mm><totalprecip_in>0</totalprecip_in><avgvis_km>10</avgvis_km><avgvis_miles>6</avgvis_miles><avghumidity>50</avghumidity><condition><text>Sunny</text><icon>//cdn.weatherapi.com/weather/64x64/day/113.png</icon><code>1000</code></condition><uv>0</uv></day><astro><sunrise>07:37 AM</sunrise><sunset>08:31 PM</sunset><moonrise>11:10 AM</moonrise><moonset>01:59 AM</moonset><moon_phase>Waxing Crescent</moon_phase><moon_illumination>40</moon_illumination></astro><hour><time_epoch>1649282400</time_epoch><time>2022-04-07 00:00</time><temp_c>11.7</temp_c><temp_f>53.1</temp_f><is_day>0</is_day><condition><text>Clear</text><icon>//cdn.weatherapi.com/weather/64x64/night/113.png</icon><code>1000</code></condition><wind_mph>6.7</wind_mph><wind_kph>10.8</wind_kph><wind_degree>275</wind_degree><wind_dir>W</wind_dir><pressure_mb>1017</pressure_mb><pressure_in>30.02</pressure_in><precip_mm>0</precip_mm><precip_in>0</precip_in><humidity>58</humidity><cloud>9</cloud><feelslike_c>10.5</feelslike_c><feelslike_f>50.9</feelslike_f><windchill_c>10.5</windchill_c><windchill_f>50.9</windchill_f><heatindex_c>11.7</heatindex_c><heatindex_f>53.1</heatindex_f><dewpoint_c>3.6</dewpoint_c><dewpoint_f>38.5</dewpoint_f><will_it_rain>0</will_it_rain><chance_of_rain>0</chance_of_rain><will_it_snow>0</will_it_snow><chance_of_snow>0</chance_of_snow><vis_km>10</vis_km><vis_miles>6</vis_miles><gust_mph>14.1</gust_mph><gust_kph>22.7</gust_kph></hour><hour><time_epoch>1649286000</time_epoch><time>2022-04-07 01:00</time><temp_c>11.1</temp_c><temp_f>52</temp_f><is_day>0</is_day><condition><text>Clear</text><icon>//cdn.weatherapi.com/weather/64x64/night/113.png</icon><code>1000</code></condition><wind_mph>7.5</wind_mph><wind_kph>12</wind_kph><wind_degree>272</wind_degree><wind_dir>W</wind_dir><pressure_mb>1017</pressure_mb><pressure_in>30.02</pressure_in><precip_mm>0</precip_mm><precip_in>0</precip_in><humidity>61</humidity><cloud>8</cloud><feelslike_c>9.6</feelslike_c><feelslike_f>49.3</feelslike_f><windchill_c>9.6</windchill_c><windchill_f>49.3</windchill_f><heatindex_c>11.1</heatindex_c><heatindex_f>52</heatindex_f><dewpoint_c>3.7</dewpoint_c><dewpoint_f>38.7</dewpoint_f><will_it_rain>0</will_it_rain><chance_of_rain>0</chance_of_rain><will_it_snow>0</will_it_snow><chance_of_snow>0</chance_of_snow><vis_km>10</vis_km><vis_miles>6</vis_miles><gust_mph>15.7</gust_mph><gust_kph>25.2</gust_kph></hour><hour><time_epoch>1649289600</time_epoch><time>2022-04-07 02:00</time><temp_c>10.5</temp_c><temp_f>50.9</temp_f><is_day>0</is_day><condition><text>Clear</text><icon>//cdn.weatherapi.com/weather/64x64/night/113.png</icon><code>1000</code></condition><wind_mph>8.2</wind_mph><wind_kph>13.2</wind_kph><wind_degree>268</wind_degree><wind_dir>W</wind_dir><pressure_mb>1017</pressure_mb><pressure_in>30.02</pressure_in><precip_mm>0</precip_mm><precip_in>0</precip_in><humidity>64</humidity><cloud>6</cloud><feelslike_c>8.8</feelslike_c><feelslike_f>47.8</feelslike_f><windchill_c>8.8</windchill_c><windchill_f>47.8</windchill_f><heatindex_c>10.5</heatindex_c><heatindex_f>50.9</heatindex_f><dewpoint_c>3.9</dewpoint_c><dewpoint_f>39</dewpoint_f><will_it_rain>0</will_it_rain><chance_of_rain>0</chance_of_rain><will_it_snow>0</will_it_snow><chance_of_snow>0</chance_of_snow><vis_km>10</vis_km><vis_miles>6</vis_miles><gust_mph>17.2</gust_mph><gust_kph>27.7</gust_kph></hour><hour><time_epoch>1649293200</time_epoch><time>2022-04-07 03:00</time><temp_c>9.9</temp_c><temp_f>49.8</temp_f><is_day>0</is_day><condition><text>Clear</text><icon>//cdn.weatherapi.com/weather/64x64/night/113.png</icon><code>1000</code></condition><wind_mph>8.9</wind_mph><wind_kph>14.4</wind_kph><wind_degree>265</wind_degree><wind_dir>W</wind_dir><pressure_mb>1017</pressure_mb><pressure_in>30.02</pressure_in><precip_mm>0</precip_mm><precip_in>0</precip_in><humidity>67</humidity><cloud>4</cloud><feelslike_c>7.9</feelslike_c><feelslike_f>46.2</feelslike_f><windchill_c>7.9</windchill_c><windchill_f>46.2</windchill_f><heatindex_c>9.9</heatindex_c><heatindex_f>49.8</heatindex_f><dewpoint_c>4</dewpoint_c><dewpoint_f>39.2</dewpoint_f><will_it_rain>0</will_it_rain><chance_of_rain>0</chance_of_rain><will_it_snow>0</will_it_snow><chance_of_snow>0</chance_of_snow><vis_km>10</vis_km><vis_miles>6</vis_miles><gust_mph>18.8</gust_mph><gust_kph>30.2</gust_kph></hour><hour><time_epoch>1649296800</time_epoch><time>2022-04-07 04:00</time><temp_c>9.7</temp_c><temp_f>49.4</temp_f><is_day>0</is_day><condition><text>Clear</text><icon>//cdn.weatherapi.com/weather/64x64/night/113.png</icon><code>1000</code></condition><wind_mph>9.2</wind_mph><wind_kph>14.8</wind_kph><wind_degree>266</wind_degree><wind_dir>W</wind_dir><pressure_mb>1017</pressure_mb><pressure_in>30.03</pressure_in><precip_mm>0</precip_mm><precip_in>0</precip_in><humidity>68</humidity><cloud>4</cloud><feelslike_c>7.6</feelslike_c><feelslike_f>45.6</feelslike_f><windchill_c>7.6</windchill_c><windchill_f>45.6</windchill_f><heatindex_c>9.7</heatindex_c><heatindex_f>49.4</heatindex_f><dewpoint_c>4</dewpoint_c><dewpoint_f>39.3</dewpoint_f><will_it_rain>0</will_it_rain><chance_of_rain>0</chance_of_rain><will_it_snow>0</will_it_snow><chance_of_snow>0</chance_of_snow><vis_km>10</vis_km><vis_miles>6</vis_miles><gust_mph>19.2</gust_mph><gust_kph>31</gust_kph></hour><hour><time_epoch>1649300400</time_epoch><time>2022-04-07 05:00</time><temp_c>9.4</temp_c><temp_f>49</temp_f><is_day>0</is_day><condition><text>Clear</text><icon>//cdn.weatherapi.com/weather/64x64/night/113.png</icon><code>1000</code></condition><wind_mph>9.4</wind_mph><wind_kph>15.1</wind_kph><wind_degree>268</wind_degree><wind_dir>W</wind_dir><pressure_mb>1017</pressure_mb><pressure_in>30.03</pressure_in><precip_mm>0</precip_mm><precip_in>0</precip_in><humidity>69</humidity><cloud>4</cloud><feelslike_c>7.2</feelslike_c><feelslike_f>45</feelslike_f><windchill_c>7.2</windchill_c><windchill_f>45</windchill_f><heatindex_c>9.4</heatindex_c><heatindex_f>49</heatindex_f><dewpoint_c>4.1</dewpoint_c><dewpoint_f>39.3</dewpoint_f><will_it_rain>0</will_it_rain><chance_of_rain>0</chance_of_rain><will_it_snow>0</will_it_snow><chance_of_snow>0</chance_of_snow><vis_km>10</vis_km><vis_miles>6</vis_miles><gust_mph>19.7</gust_mph><gust_kph>31.7</gust_kph></hour><hour><time_epoch>1649304000</time_epoch><time>2022-04-07 06:00</time><temp_c>9.2</temp_c><temp_f>48.6</temp_f><is_day>0</is_day><condition><text>Clear</text><icon>//cdn.weatherapi.com/weather/64x64/night/113.png</icon><code>1000</code></condition><wind_mph>9.6</wind_mph><wind_kph>15.5</wind_kph><wind_degree>269</wind_degree><wind_dir>W</wind_dir><pressure_mb>1017</pressure_mb><pressure_in>30.04</pressure_in><precip_mm>0</precip_mm><precip_in>0</precip_in><humidity>70</humidity><cloud>4</cloud><feelslike_c>6.9</feelslike_c><feelslike_f>44.4</feelslike_f><windchill_c>6.9</windchill_c><windchill_f>44.4</windchill_f><heatindex_c>9.2</heatindex_c><heatindex_f>48.6</heatindex_f><dewpoint_c>4.1</dewpoint_c><dewpoint_f>39.4</dewpoint_f><will_it_rain>0</will_it_rain><chance_of_rain>0</chance_of_rain><will_it_snow>0</will_it_snow><chance_of_snow>0</chance_of_snow><vis_km>10</vis_km><vis_miles>6</vis_miles><gust_mph>20.1</gust_mph><gust_kph>32.4</gust_kph></hour><hour><time_epoch>1649307600</time_epoch><time>2022-04-07 07:00</time><temp_c>11</temp_c><temp_f>51.8</temp_f><is_day>0</is_day><condition><text>Clear</text><icon>//cdn.weatherapi.com/weather/64x64/night/113.png</icon><code>1000</code></condition><wind_mph>10.7</wind_mph><wind_kph>17.2</wind_kph><wind_degree>270</wind_degree><wind_dir>W</wind_dir><pressure_mb>1018</pressure_mb><pressure_in>30.05</pressure_in><precip_mm>0</precip_mm><precip_in>0</precip_in><humidity>66</humidity><cloud>3</cloud><feelslike_c>9</feelslike_c><feelslike_f>48.1</feelslike_f><windchill_c>9</windchill_c><windchill_f>48.1</windchill_f><heatindex_c>11</heatindex_c><heatindex_f>51.8</heatindex_f><dewpoint_c>4.8</dewpoint_c><dewpoint_f>40.7</dewpoint_f><will_it_rain>0</will_it_rain><chance_of_rain>0</chance_of_rain><will_it_snow>0</will_it_snow><chance_of_snow>0</chance_of_snow><vis_km>10</vis_km><vis_miles>6</vis_miles><gust_mph>18.9</gust_mph><gust_kph>30.5</gust_kph></hour><hour><time_epoch>1649311200</time_epoch><time>2022-04-07 08:00</time><temp_c>12.8</temp_c><temp_f>55</temp_f><is_day>1</is_day><condition><text>Sunny</text><icon>//cdn.weatherapi.com/weather/64x64/day/113.png</icon><code>1000</code></condition><wind_mph>11.7</wind_mph><wind_kph>18.8</wind_kph><wind_degree>271</wind_degree><wind_dir>W</wind_dir><pressure_mb>1018</pressure_mb><pressure_in>30.06</pressure_in><precip_mm>0</precip_mm><precip_in>0</precip_in><humidity>62</humidity><cloud>2</cloud><feelslike_c>11</feelslike_c><feelslike_f>51.9</feelslike_f><windchill_c>11</windchill_c><windchill_f>51.9</windchill_f><heatindex_c>12.8</heatindex_c><heatindex_f>55</heatindex_f><dewpoint_c>5.6</dewpoint_c><dewpoint_f>42</dewpoint_f><will_it_rain>0</will_it_rain><chance_of_rain>0</chance_of_rain><will_it_snow>0</will_it_snow><chance_of_snow>0</chance_of_snow><vis_km>10</vis_km><vis_miles>6</vis_miles><gust_mph>17.7</gust_mph><gust_kph>28.6</gust_kph></hour><hour><time_epoch>1649314800</time_epoch><time>2022-04-07 09:00</time><temp_c>14.6</temp_c><temp_f>58.3</temp_f><is_day>1</is_day><condition><text>Sunny</text><icon>//cdn.weatherapi.com/weather/64x64/day/113.png</icon><code>1000</code></condition><wind_mph>12.8</wind_mph><wind_kph>20.5</wind_kph><wind_degree>271</wind_degree><wind_dir>W</wind_dir><pressure_mb>1018</pressure_mb><pressure_in>30.07</pressure_in><precip_mm>0</precip_mm><precip_in>0</precip_in><humidity>57</humidity><cloud>2</cloud><feelslike_c>13.1</feelslike_c><feelslike_f>55.6</feelslike_f><windchill_c>13.1</windchill_c><windchill_f>55.6</windchill_f><heatindex_c>14.6</heatindex_c><heatindex_f>58.3</heatindex_f><dewpoint_c>6.3</dewpoint_c><dewpoint_f>43.3</dewpoint_f><will_it_rain>0</will_it_rain><chance_of_rain>0</chance_of_rain><will_it_snow>0</will_it_snow><chance_of_snow>0</chance_of_snow><vis_km>10</vis_km><vis_miles>6</vis_miles><gust_mph>16.6</gust_mph><gust_kph>26.6</gust_kph></hour><hour><time_epoch>1649318400</time_epoch><time>2022-04-07 10:00</time><temp_c>17.8</temp_c><temp_f>64</temp_f><is_day>1</is_day><condition><text>Sunny</text><icon>//cdn.weatherapi.com/weather/64x64/day/113.png</icon><code>1000</code></condition><wind_mph>13.6</wind_mph><wind_kph>22</wind_kph><wind_degree>273</wind_degree><wind_dir>W</wind_dir><pressure_mb>1018</pressure_mb><pressure_in>30.07</pressure_in><precip_mm>0</precip_mm><precip_in>0</precip_in><humidity>51</humidity><cloud>1</cloud><feelslike_c>16.8</feelslike_c><feelslike_f>62.2</feelslike_f><windchill_c>16.8</windchill_c><windchill_f>62.2</windchill_f><heatindex_c>18</heatindex_c><heatindex_f>64.3</heatindex_f><dewpoint_c>7.1</dewpoint_c><dewpoint_f>44.8</dewpoint_f><will_it_rain>0</will_it_rain><chance_of_rain>0</chance_of_rain><will_it_snow>0</will_it_snow><chance_of_snow>0</chance_of_snow><vis_km>10</vis_km><vis_miles>6</vis_miles><gust_mph>16.9</gust_mph><gust_kph>27.2</gust_kph></hour><hour><time_epoch>1649322000</time_epoch><time>2022-04-07 11:00</time><temp_c>20.9</temp_c><temp_f>69.7</temp_f><is_day>1</is_day><condition><text>Sunny</text><icon>//cdn.weatherapi.com/weather/64x64/day/113.png</icon><code>1000</code></condition><wind_mph>14.5</wind_mph><wind_kph>23.4</wind_kph><wind_degree>274</wind_degree><wind_dir>W</wind_dir><pressure_mb>1018</pressure_mb><pressure_in>30.06</pressure_in><precip_mm>0</precip_mm><precip_in>0</precip_in><humidity>44</humidity><cloud>1</cloud><feelslike_c>20.4</feelslike_c><feelslike_f>68.8</feelslike_f><windchill_c>20.4</windchill_c><windchill_f>68.8</windchill_f><heatindex_c>21.3</heatindex_c><heatindex_f>70.4</heatindex_f><dewpoint_c>8</dewpoint_c><dewpoint_f>46.3</dewpoint_f><will_it_rain>0</will_it_rain><chance_of_rain>0</chance_of_rain><will_it_snow>0</will_it_snow><chance_of_snow>0</chance_of_snow><vis_km>10</vis_km><vis_miles>6</vis_miles><gust_mph>17.3</gust_mph><gust_kph>27.8</gust_kph></hour><hour><time_epoch>1649325600</time_epoch><time>2022-04-07 12:00</time><temp_c>24.1</temp_c><temp_f>75.4</temp_f><is_day>1</is_day><condition><text>Sunny</text><icon>//cdn.weatherapi.com/weather/64x64/day/113.png</icon><code>1000</code></condition><wind_mph>15.4</wind_mph><wind_kph>24.8</wind_kph><wind_degree>275</wind_degree><wind_dir>W</wind_dir><pressure_mb>1018</pressure_mb><pressure_in>30.06</pressure_in><precip_mm>0</precip_mm><precip_in>0</precip_in><humidity>38</humidity><cloud>0</cloud><feelslike_c>24.7</feelslike_c><feelslike_f>76.5</feelslike_f><windchill_c>24.1</windchill_c><windchill_f>75.4</windchill_f><heatindex_c>24.7</heatindex_c><heatindex_f>76.5</heatindex_f><dewpoint_c>8.8</dewpoint_c><dewpoint_f>47.8</dewpoint_f><will_it_rain>0</will_it_rain><chance_of_rain>0</chance_of_rain><will_it_snow>0</will_it_snow><chance_of_snow>0</chance_of_snow><vis_km>10</vis_km><vis_miles>6</vis_miles><gust_mph>17.7</gust_mph><gust_kph>28.4</gust_kph></hour><hour><time_epoch>1649329200</time_epoch><time>2022-04-07 13:00</time><temp_c>25</temp_c><temp_f>76.9</temp_f><is_day>1</is_day><condition><text>Sunny</text><icon>//cdn.weatherapi.com/weather/64x64/day/113.png</icon><code>1000</code></condition><wind_mph>15.8</wind_mph><wind_kph>25.4</wind_kph><wind_degree>267</wind_degree><wind_dir>W</wind_dir><pressure_mb>1017</pressure_mb><pressure_in>30.04</pressure_in><precip_mm>0</precip_mm><precip_in>0</precip_in><humidity>35</humidity><cloud>1</cloud><feelslike_c>25.1</feelslike_c><feelslike_f>77.1</feelslike_f><windchill_c>25</windchill_c><windchill_f>76.9</windchill_f><heatindex_c>25.1</heatindex_c><heatindex_f>77.1</heatindex_f><dewpoint_c>8.3</dewpoint_c><dewpoint_f>47</dewpoint_f><will_it_rain>0</will_it_rain><chance_of_rain>0</chance_of_rain><will_it_snow>0</will_it_snow><chance_of_snow>0</chance_of_snow><vis_km>10</vis_km><vis_miles>6</vis_miles><gust_mph>18.1</gust_mph><gust_kph>29.2</gust_kph></hour><hour><time_epoch>1649332800</time_epoch><time>2022-04-07 14:00</time><temp_c>25.8</temp_c><temp_f>78.5</temp_f><is_day>1</is_day><condition><text>Sunny</text><icon>//cdn.weatherapi.com/weather/64x64/day/113.png</icon><code>1000</code></condition><wind_mph>16.2</wind_mph><wind_kph>26</wind_kph><wind_degree>259</wind_degree><wind_dir>W</wind_dir><pressure_mb>1016</pressure_mb><pressure_in>30.01</pressure_in><precip_mm>0</precip_mm><precip_in>0</precip_in><humidity>32</humidity><cloud>2</cloud><feelslike_c>25.4</feelslike_c><feelslike_f>77.8</feelslike_f><windchill_c>25.8</windchill_c><windchill_f>78.5</windchill_f><heatindex_c>25.4</heatindex_c><heatindex_f>77.8</heatindex_f><dewpoint_c>7.9</dewpoint_c><dewpoint_f>46.2</dewpoint_f><will_it_rain>0</will_it_rain><chance_of_rain>0</chance_of_rain><will_it_snow>0</will_it_snow><chance_of_snow>0</chance_of_snow><vis_km>10</vis_km><vis_miles>6</vis_miles><gust_mph>18.6</gust_mph><gust_kph>29.9</gust_kph></hour><hour><time_epoch>1649336400</time_epoch><time>2022-04-07 15:00</time><temp_c>26.7</temp_c><temp_f>80.1</temp_f><is_day>1</is_day><condition><text>Sunny</text><icon>//cdn.weatherapi.com/weather/64x64/day/113.png</icon><code>1000</code></condition><wind_mph>16.6</wind_mph><wind_kph>26.6</wind_kph><wind_degree>251</wind_degree><wind_dir>WSW</wind_dir><pressure_mb>1015</pressure_mb><pressure_in>29.98</pressure_in><precip_mm>0</precip_mm><precip_in>0</precip_in><humidity>29</humidity><cloud>3</cloud><feelslike_c>25.8</feelslike_c><feelslike_f>78.4</feelslike_f><windchill_c>26.7</windchill_c><windchill_f>80.1</windchill_f><heatindex_c>25.8</heatindex_c><heatindex_f>78.4</heatindex_f><dewpoint_c>7.4</dewpoint_c><dewpoint_f>45.3</dewpoint_f><will_it_rain>0</will_it_rain><chance_of_rain>0</chance_of_rain><will_it_snow>0</will_it_snow><chance_of_snow>0</chance_of_snow><vis_km>10</vis_km><vis_miles>6</vis_miles><gust_mph>19</gust_mph><gust_kph>30.6</gust_kph></hour><hour><time_epoch>1649340000</time_epoch><time>2022-04-07 16:00</time><temp_c>26.4</temp_c><temp_f>79.5</temp_f><is_day>1</is_day><condition><text>Sunny</text><icon>//cdn.weatherapi.com/weather/64x64/day/113.png</icon><code>1000</code></condition><wind_mph>16.7</wind_mph><wind_kph>26.9</wind_kph><wind_degree>251</wind_degree><wind_dir>WSW</wind_dir><pressure_mb>1015</pressure_mb><pressure_in>29.98</pressure_in><precip_mm>0</precip_mm><precip_in>0</precip_in><humidity>32</humidity><cloud>2</cloud><feelslike_c>25.8</feelslike_c><feelslike_f>78.4</feelslike_f><windchill_c>26.4</windchill_c><windchill_f>79.5</windchill_f><heatindex_c>25.8</heatindex_c><heatindex_f>78.4</heatindex_f><dewpoint_c>8.3</dewpoint_c><dewpoint_f>47</dewpoint_f><will_it_rain>0</will_it_rain><chance_of_rain>0</chance_of_rain><will_it_snow>0</will_it_snow><chance_of_snow>0</chance_of_snow><vis_km>10</vis_km><vis_miles>6</vis_miles><gust_mph>19.2</gust_mph><gust_kph>30.8</gust_kph></hour><hour><time_epoch>1649343600</time_epoch><time>2022-04-07 17:00</time><temp_c>26</temp_c><temp_f>78.9</temp_f><is_day>1</is_day><condition><text>Sunny</text><icon>//cdn.weatherapi.com/weather/64x64/day/113.png</icon><code>1000</code></condition><wind_mph>16.9</wind_mph><wind_kph>27.1</wind_kph><wind_degree>252</wind_degree><wind_dir>WSW</wind_dir><pressure_mb>1015</pressure_mb><pressure_in>29.97</pressure_in><precip_mm>0</precip_mm><precip_in>0</precip_in><humidity>35</humidity><cloud>1</cloud><feelslike_c>25.7</feelslike_c><feelslike_f>78.3</feelslike_f><windchill_c>26</windchill_c><windchill_f>78.9</windchill_f><heatindex_c>25.7</heatindex_c><heatindex_f>78.3</heatindex_f><dewpoint_c>9.3</dewpoint_c><dewpoint_f>48.7</dewpoint_f><will_it_rain>0</will_it_rain><chance_of_rain>0</chance_of_rain><will_it_snow>0</will_it_snow><chance_of_snow>0</chance_of_snow><vis_km>10</vis_km><vis_miles>6</vis_miles><gust_mph>19.3</gust_mph><gust_kph>31.1</gust_kph></hour><hour><time_epoch>1649347200</time_epoch><time>2022-04-07 18:00</time><temp_c>25.7</temp_c><temp_f>78.3</temp_f><is_day>1</is_day><condition><text>Sunny</text><icon>//cdn.weatherapi.com/weather/64x64/day/113.png</icon><code>1000</code></condition><wind_mph>17</wind_mph><wind_kph>27.4</wind_kph><wind_degree>252</wind_degree><wind_dir>WSW</wind_dir><pressure_mb>1015</pressure_mb><pressure_in>29.97</pressure_in><precip_mm>0</precip_mm><precip_in>0</precip_in><humidity>38</humidity><cloud>0</cloud><feelslike_c>25.7</feelslike_c><feelslike_f>78.3</feelslike_f><windchill_c>25.7</windchill_c><windchill_f>78.3</windchill_f><heatindex_c>25.7</heatindex_c><heatindex_f>78.3</heatindex_f><dewpoint_c>10.2</dewpoint_c><dewpoint_f>50.4</dewpoint_f><will_it_rain>0</will_it_rain><chance_of_rain>0</chance_of_rain><will_it_snow>0</will_it_snow><chance_of_snow>0</chance_of_snow><vis_km>10</vis_km><vis_miles>6</vis_miles><gust_mph>19.5</gust_mph><gust_kph>31.3</gust_kph></hour><hour><time_epoch>1649350800</time_epoch><time>2022-04-07 19:00</time><temp_c>22.7</temp_c><temp_f>72.9</temp_f><is_day>1</is_day><condition><text>Sunny</text><icon>//cdn.weatherapi.com/weather/64x64/day/113.png</icon><code>1000</code></condition><wind_mph>14.3</wind_mph><wind_kph>23</wind_kph><wind_degree>257</wind_degree><wind_dir>WSW</wind_dir><pressure_mb>1016</pressure_mb><pressure_in>29.99</pressure_in><precip_mm>0</precip_mm><precip_in>0</precip_in><humidity>41</humidity><cloud>0</cloud><feelslike_c>22.7</feelslike_c><feelslike_f>72.9</feelslike_f><windchill_c>22.7</windchill_c><windchill_f>72.9</windchill_f><heatindex_c>22.7</heatindex_c><heatindex_f>72.9</heatindex_f><dewpoint_c>8.6</dewpoint_c><dewpoint_f>47.5</dewpoint_f><will_it_rain>0</will_it_rain><chance_of_rain>0</chance_of_rain><will_it_snow>0</will_it_snow><chance_of_snow>0</chance_of_snow><vis_km>10</vis_km><vis_miles>6</vis_miles><gust_mph>19.2</gust_mph><gust_kph>31</gust_kph></hour><hour><time_epoch>1649354400</time_epoch><time>2022-04-07 20:00</time><temp_c>19.7</temp_c><temp_f>67.5</temp_f><is_day>1</is_day><condition><text>Sunny</text><icon>//cdn.weatherapi.com/weather/64x64/day/113.png</icon><code>1000</code></condition><wind_mph>11.6</wind_mph><wind_kph>18.7</wind_kph><wind_degree>261</wind_degree><wind_dir>W</wind_dir><pressure_mb>1016</pressure_mb><pressure_in>30.01</pressure_in><precip_mm>0</precip_mm><precip_in>0</precip_in><humidity>44</humidity><cloud>0</cloud><feelslike_c>19.7</feelslike_c><feelslike_f>67.5</feelslike_f><windchill_c>19.7</windchill_c><windchill_f>67.5</windchill_f><heatindex_c>19.7</heatindex_c><heatindex_f>67.5</heatindex_f><dewpoint_c>7</dewpoint_c><dewpoint_f>44.6</dewpoint_f><will_it_rain>0</will_it_rain><chance_of_rain>0</chance_of_rain><will_it_snow>0</will_it_snow><chance_of_snow>0</chance_of_snow><vis_km>10</vis_km><vis_miles>6</vis_miles><gust_mph>19</gust_mph><gust_kph>30.6</gust_kph></hour><hour><time_epoch>1649358000</time_epoch><time>2022-04-07 21:00</time><temp_c>16.7</temp_c><temp_f>62.1</temp_f><is_day>0</is_day><condition><text>Clear</text><icon>//cdn.weatherapi.com/weather/64x64/night/113.png</icon><code>1000</code></condition><wind_mph>8.9</wind_mph><wind_kph>14.4</wind_kph><wind_degree>266</wind_degree><wind_dir>W</wind_dir><pressure_mb>1017</pressure_mb><pressure_in>30.03</pressure_in><precip_mm>0</precip_mm><precip_in>0</precip_in><humidity>47</humidity><cloud>0</cloud><feelslike_c>16.7</feelslike_c><feelslike_f>62.1</feelslike_f><windchill_c>16.7</windchill_c><windchill_f>62.1</windchill_f><heatindex_c>16.7</heatindex_c><heatindex_f>62.1</heatindex_f><dewpoint_c>5.4</dewpoint_c><dewpoint_f>41.7</dewpoint_f><will_it_rain>0</will_it_rain><chance_of_rain>0</chance_of_rain><will_it_snow>0</will_it_snow><chance_of_snow>0</chance_of_snow><vis_km>10</vis_km><vis_miles>6</vis_miles><gust_mph>18.8</gust_mph><gust_kph>30.2</gust_kph></hour><hour><time_epoch>1649361600</time_epoch><time>2022-04-07 22:00</time><temp_c>15.8</temp_c><temp_f>60.4</temp_f><is_day>0</is_day><condition><text>Clear</text><icon>//cdn.weatherapi.com/weather/64x64/night/113.png</icon><code>1000</code></condition><wind_mph>8.9</wind_mph><wind_kph>14.4</wind_kph><wind_degree>259</wind_degree><wind_dir>W</wind_dir><pressure_mb>1017</pressure_mb><pressure_in>30.03</pressure_in><precip_mm>0</precip_mm><precip_in>0</precip_in><humidity>50</humidity><cloud>0</cloud><feelslike_c>15.4</feelslike_c><feelslike_f>59.8</feelslike_f><windchill_c>15.4</windchill_c><windchill_f>59.8</windchill_f><heatindex_c>15.8</heatindex_c><heatindex_f>60.4</heatindex_f><dewpoint_c>5.3</dewpoint_c><dewpoint_f>41.5</dewpoint_f><will_it_rain>0</will_it_rain><chance_of_rain>0</chance_of_rain><will_it_snow>0</will_it_snow><chance_of_snow>0</chance_of_snow><vis_km>10</vis_km><vis_miles>6</vis_miles><gust_mph>18.8</gust_mph><gust_kph>30.2</gust_kph></hour><hour><time_epoch>1649365200</time_epoch><time>2022-04-07 23:00</time><temp_c>14.9</temp_c><temp_f>58.8</temp_f><is_day>0</is_day><condition><text>Clear</text><icon>//cdn.weatherapi.com/weather/64x64/night/113.png</icon><code>1000</code></condition><wind_mph>8.9</wind_mph><wind_kph>14.4</wind_kph><wind_degree>253</wind_degree><wind_dir>WSW</wind_dir><pressure_mb>1017</pressure_mb><pressure_in>30.03</pressure_in><precip_mm>0</precip_mm><precip_in>0</precip_in><humidity>52</humidity><cloud>0</cloud><feelslike_c>14.2</feelslike_c><feelslike_f>57.5</feelslike_f><windchill_c>14.2</windchill_c><windchill_f>57.5</windchill_f><heatindex_c>14.9</heatindex_c><heatindex_f>58.8</heatindex_f><dewpoint_c>5.1</dewpoint_c><dewpoint_f>41.2</dewpoint_f><will_it_rain>0</will_it_rain><chance_of_rain>0</chance_of_rain><will_it_snow>0</will_it_snow><chance_of_snow>0</chance_of_snow><vis_km>10</vis_km><vis_miles>6</vis_miles><gust_mph>18.8</gust_mph><gust_kph>30.2</gust_kph></hour></forecastday></forecast></root>\n",
      "\n",
      "\n",
      "\n",
      "\n",
      "\n",
      "<?xml version=\"1.0\" encoding=\"utf-8\"?><root><location><name>Beniferri</name><region>Comunidad Valenciana</region><country>Spain</country><lat>39.49</lat><lon>-0.4</lon><tz_id>Europe/Madrid</tz_id><localtime_epoch>1649776322</localtime_epoch><localtime>2022-04-12 17:12</localtime></location><forecast><forecastday><date>2022-04-06</date><date_epoch>1649203200</date_epoch><day><maxtemp_c>18.7</maxtemp_c><maxtemp_f>65.7</maxtemp_f><mintemp_c>7.7</mintemp_c><mintemp_f>45.9</mintemp_f><avgtemp_c>14.2</avgtemp_c><avgtemp_f>57.5</avgtemp_f><maxwind_mph>12.5</maxwind_mph><maxwind_kph>20.2</maxwind_kph><totalprecip_mm>0</totalprecip_mm><totalprecip_in>0</totalprecip_in><avgvis_km>10</avgvis_km><avgvis_miles>6</avgvis_miles><avghumidity>60</avghumidity><condition><text>Partly cloudy</text><icon>//cdn.weatherapi.com/weather/64x64/day/116.png</icon><code>1003</code></condition><uv>0</uv></day><astro><sunrise>07:39 AM</sunrise><sunset>08:30 PM</sunset><moonrise>10:28 AM</moonrise><moonset>01:00 AM</moonset><moon_phase>Waxing Crescent</moon_phase><moon_illumination>33</moon_illumination></astro><hour><time_epoch>1649196000</time_epoch><time>2022-04-06 00:00</time><temp_c>8.1</temp_c><temp_f>46.6</temp_f><is_day>0</is_day><condition><text>Partly cloudy</text><icon>//cdn.weatherapi.com/weather/64x64/night/116.png</icon><code>1003</code></condition><wind_mph>5.4</wind_mph><wind_kph>8.6</wind_kph><wind_degree>295</wind_degree><wind_dir>WNW</wind_dir><pressure_mb>1015</pressure_mb><pressure_in>29.96</pressure_in><precip_mm>0</precip_mm><precip_in>0</precip_in><humidity>84</humidity><cloud>60</cloud><feelslike_c>6.6</feelslike_c><feelslike_f>43.9</feelslike_f><windchill_c>6.6</windchill_c><windchill_f>43.9</windchill_f><heatindex_c>8.1</heatindex_c><heatindex_f>46.6</heatindex_f><dewpoint_c>5.6</dewpoint_c><dewpoint_f>42.1</dewpoint_f><will_it_rain>0</will_it_rain><chance_of_rain>0</chance_of_rain><will_it_snow>0</will_it_snow><chance_of_snow>0</chance_of_snow><vis_km>10</vis_km><vis_miles>6</vis_miles><gust_mph>9.6</gust_mph><gust_kph>15.5</gust_kph></hour><hour><time_epoch>1649199600</time_epoch><time>2022-04-06 01:00</time><temp_c>8.2</temp_c><temp_f>46.8</temp_f><is_day>0</is_day><condition><text>Partly cloudy</text><icon>//cdn.weatherapi.com/weather/64x64/night/116.png</icon><code>1003</code></condition><wind_mph>4.7</wind_mph><wind_kph>7.6</wind_kph><wind_degree>285</wind_degree><wind_dir>WNW</wind_dir><pressure_mb>1014</pressure_mb><pressure_in>29.95</pressure_in><precip_mm>0</precip_mm><precip_in>0</precip_in><humidity>82</humidity><cloud>71</cloud><feelslike_c>7</feelslike_c><feelslike_f>44.6</feelslike_f><windchill_c>7</windchill_c><windchill_f>44.6</windchill_f><heatindex_c>8.2</heatindex_c><heatindex_f>46.8</heatindex_f><dewpoint_c>5.2</dewpoint_c><dewpoint_f>41.4</dewpoint_f><will_it_rain>0</will_it_rain><chance_of_rain>1</chance_of_rain><will_it_snow>0</will_it_snow><chance_of_snow>0</chance_of_snow><vis_km>10</vis_km><vis_miles>6</vis_miles><gust_mph>8.4</gust_mph><gust_kph>13.4</gust_kph></hour><hour><time_epoch>1649203200</time_epoch><time>2022-04-06 02:00</time><temp_c>8.3</temp_c><temp_f>46.9</temp_f><is_day>0</is_day><condition><text>Overcast</text><icon>//cdn.weatherapi.com/weather/64x64/night/122.png</icon><code>1009</code></condition><wind_mph>4</wind_mph><wind_kph>6.5</wind_kph><wind_degree>275</wind_degree><wind_dir>W</wind_dir><pressure_mb>1014</pressure_mb><pressure_in>29.94</pressure_in><precip_mm>0</precip_mm><precip_in>0</precip_in><humidity>79</humidity><cloud>83</cloud><feelslike_c>7.4</feelslike_c><feelslike_f>45.3</feelslike_f><windchill_c>7.4</windchill_c><windchill_f>45.3</windchill_f><heatindex_c>8.3</heatindex_c><heatindex_f>46.9</heatindex_f><dewpoint_c>4.8</dewpoint_c><dewpoint_f>40.6</dewpoint_f><will_it_rain>0</will_it_rain><chance_of_rain>3</chance_of_rain><will_it_snow>0</will_it_snow><chance_of_snow>0</chance_of_snow><vis_km>10</vis_km><vis_miles>6</vis_miles><gust_mph>7.1</gust_mph><gust_kph>11.4</gust_kph></hour><hour><time_epoch>1649206800</time_epoch><time>2022-04-06 03:00</time><temp_c>8.4</temp_c><temp_f>47.1</temp_f><is_day>0</is_day><condition><text>Overcast</text><icon>//cdn.weatherapi.com/weather/64x64/night/122.png</icon><code>1009</code></condition><wind_mph>3.4</wind_mph><wind_kph>5.4</wind_kph><wind_degree>265</wind_degree><wind_dir>W</wind_dir><pressure_mb>1014</pressure_mb><pressure_in>29.93</pressure_in><precip_mm>0</precip_mm><precip_in>0</precip_in><humidity>76</humidity><cloud>95</cloud><feelslike_c>7.8</feelslike_c><feelslike_f>46</feelslike_f><windchill_c>7.8</windchill_c><windchill_f>46</windchill_f><heatindex_c>8.4</heatindex_c><heatindex_f>47.1</heatindex_f><dewpoint_c>4.4</dewpoint_c><dewpoint_f>39.9</dewpoint_f><will_it_rain>0</will_it_rain><chance_of_rain>0</chance_of_rain><will_it_snow>0</will_it_snow><chance_of_snow>0</chance_of_snow><vis_km>10</vis_km><vis_miles>6</vis_miles><gust_mph>5.8</gust_mph><gust_kph>9.4</gust_kph></hour><hour><time_epoch>1649210400</time_epoch><time>2022-04-06 04:00</time><temp_c>8.2</temp_c><temp_f>46.7</temp_f><is_day>0</is_day><condition><text>Overcast</text><icon>//cdn.weatherapi.com/weather/64x64/night/122.png</icon><code>1009</code></condition><wind_mph>3.5</wind_mph><wind_kph>5.6</wind_kph><wind_degree>263</wind_degree><wind_dir>W</wind_dir><pressure_mb>1013</pressure_mb><pressure_in>29.93</pressure_in><precip_mm>0</precip_mm><precip_in>0</precip_in><humidity>74</humidity><cloud>79</cloud><feelslike_c>7.5</feelslike_c><feelslike_f>45.4</feelslike_f><windchill_c>7.5</windchill_c><windchill_f>45.4</windchill_f><heatindex_c>8.2</heatindex_c><heatindex_f>46.7</heatindex_f><dewpoint_c>3.9</dewpoint_c><dewpoint_f>39</dewpoint_f><will_it_rain>0</will_it_rain><chance_of_rain>3</chance_of_rain><will_it_snow>0</will_it_snow><chance_of_snow>0</chance_of_snow><vis_km>10</vis_km><vis_miles>6</vis_miles><gust_mph>6.3</gust_mph><gust_kph>10.2</gust_kph></hour><hour><time_epoch>1649214000</time_epoch><time>2022-04-06 05:00</time><temp_c>7.9</temp_c><temp_f>46.3</temp_f><is_day>0</is_day><condition><text>Partly cloudy</text><icon>//cdn.weatherapi.com/weather/64x64/night/116.png</icon><code>1003</code></condition><wind_mph>3.7</wind_mph><wind_kph>5.9</wind_kph><wind_degree>261</wind_degree><wind_dir>W</wind_dir><pressure_mb>1013</pressure_mb><pressure_in>29.92</pressure_in><precip_mm>0</precip_mm><precip_in>0</precip_in><humidity>73</humidity><cloud>62</cloud><feelslike_c>7.1</feelslike_c><feelslike_f>44.8</feelslike_f><windchill_c>7.1</windchill_c><windchill_f>44.8</windchill_f><heatindex_c>7.9</heatindex_c><heatindex_f>46.3</heatindex_f><dewpoint_c>3.4</dewpoint_c><dewpoint_f>38.1</dewpoint_f><will_it_rain>0</will_it_rain><chance_of_rain>1</chance_of_rain><will_it_snow>0</will_it_snow><chance_of_snow>0</chance_of_snow><vis_km>10</vis_km><vis_miles>6</vis_miles><gust_mph>6.9</gust_mph><gust_kph>11</gust_kph></hour><hour><time_epoch>1649217600</time_epoch><time>2022-04-06 06:00</time><temp_c>7.7</temp_c><temp_f>45.9</temp_f><is_day>0</is_day><condition><text>Partly cloudy</text><icon>//cdn.weatherapi.com/weather/64x64/night/116.png</icon><code>1003</code></condition><wind_mph>3.8</wind_mph><wind_kph>6.1</wind_kph><wind_degree>259</wind_degree><wind_dir>W</wind_dir><pressure_mb>1013</pressure_mb><pressure_in>29.92</pressure_in><precip_mm>0</precip_mm><precip_in>0</precip_in><humidity>72</humidity><cloud>46</cloud><feelslike_c>6.8</feelslike_c><feelslike_f>44.2</feelslike_f><windchill_c>6.8</windchill_c><windchill_f>44.2</windchill_f><heatindex_c>7.7</heatindex_c><heatindex_f>45.9</heatindex_f><dewpoint_c>2.9</dewpoint_c><dewpoint_f>37.2</dewpoint_f><will_it_rain>0</will_it_rain><chance_of_rain>0</chance_of_rain><will_it_snow>0</will_it_snow><chance_of_snow>0</chance_of_snow><vis_km>10</vis_km><vis_miles>6</vis_miles><gust_mph>7.4</gust_mph><gust_kph>11.9</gust_kph></hour><hour><time_epoch>1649221200</time_epoch><time>2022-04-06 07:00</time><temp_c>8.9</temp_c><temp_f>48</temp_f><is_day>0</is_day><condition><text>Partly cloudy</text><icon>//cdn.weatherapi.com/weather/64x64/night/116.png</icon><code>1003</code></condition><wind_mph>4</wind_mph><wind_kph>6.4</wind_kph><wind_degree>254</wind_degree><wind_dir>WSW</wind_dir><pressure_mb>1013</pressure_mb><pressure_in>29.93</pressure_in><precip_mm>0</precip_mm><precip_in>0</precip_in><humidity>66</humidity><cloud>46</cloud><feelslike_c>8.1</feelslike_c><feelslike_f>46.6</feelslike_f><windchill_c>8.1</windchill_c><windchill_f>46.6</windchill_f><heatindex_c>8.9</heatindex_c><heatindex_f>48</heatindex_f><dewpoint_c>2.8</dewpoint_c><dewpoint_f>37</dewpoint_f><will_it_rain>0</will_it_rain><chance_of_rain>1</chance_of_rain><will_it_snow>0</will_it_snow><chance_of_snow>0</chance_of_snow><vis_km>10</vis_km><vis_miles>6</vis_miles><gust_mph>6.7</gust_mph><gust_kph>10.8</gust_kph></hour><hour><time_epoch>1649224800</time_epoch><time>2022-04-06 08:00</time><temp_c>10.1</temp_c><temp_f>50.2</temp_f><is_day>1</is_day><condition><text>Partly cloudy</text><icon>//cdn.weatherapi.com/weather/64x64/day/116.png</icon><code>1003</code></condition><wind_mph>4.1</wind_mph><wind_kph>6.6</wind_kph><wind_degree>249</wind_degree><wind_dir>WSW</wind_dir><pressure_mb>1014</pressure_mb><pressure_in>29.93</pressure_in><precip_mm>0</precip_mm><precip_in>0</precip_in><humidity>60</humidity><cloud>45</cloud><feelslike_c>9.5</feelslike_c><feelslike_f>49</feelslike_f><windchill_c>9.5</windchill_c><windchill_f>49</windchill_f><heatindex_c>10.1</heatindex_c><heatindex_f>50.2</heatindex_f><dewpoint_c>2.7</dewpoint_c><dewpoint_f>36.9</dewpoint_f><will_it_rain>0</will_it_rain><chance_of_rain>1</chance_of_rain><will_it_snow>0</will_it_snow><chance_of_snow>0</chance_of_snow><vis_km>10</vis_km><vis_miles>6</vis_miles><gust_mph>6</gust_mph><gust_kph>9.7</gust_kph></hour><hour><time_epoch>1649228400</time_epoch><time>2022-04-06 09:00</time><temp_c>11.3</temp_c><temp_f>52.3</temp_f><is_day>1</is_day><condition><text>Partly cloudy</text><icon>//cdn.weatherapi.com/weather/64x64/day/116.png</icon><code>1003</code></condition><wind_mph>4.3</wind_mph><wind_kph>6.8</wind_kph><wind_degree>245</wind_degree><wind_dir>WSW</wind_dir><pressure_mb>1014</pressure_mb><pressure_in>29.94</pressure_in><precip_mm>0</precip_mm><precip_in>0</precip_in><humidity>55</humidity><cloud>45</cloud><feelslike_c>10.8</feelslike_c><feelslike_f>51.4</feelslike_f><windchill_c>10.8</windchill_c><windchill_f>51.4</windchill_f><heatindex_c>11.3</heatindex_c><heatindex_f>52.3</heatindex_f><dewpoint_c>2.6</dewpoint_c><dewpoint_f>36.7</dewpoint_f><will_it_rain>0</will_it_rain><chance_of_rain>0</chance_of_rain><will_it_snow>0</will_it_snow><chance_of_snow>0</chance_of_snow><vis_km>10</vis_km><vis_miles>6</vis_miles><gust_mph>5.4</gust_mph><gust_kph>8.6</gust_kph></hour><hour><time_epoch>1649232000</time_epoch><time>2022-04-06 10:00</time><temp_c>13</temp_c><temp_f>55.4</temp_f><is_day>1</is_day><condition><text>Partly cloudy</text><icon>//cdn.weatherapi.com/weather/64x64/day/116.png</icon><code>1003</code></condition><wind_mph>5.1</wind_mph><wind_kph>8.2</wind_kph><wind_degree>229</wind_degree><wind_dir>SW</wind_dir><pressure_mb>1014</pressure_mb><pressure_in>29.94</pressure_in><precip_mm>0</precip_mm><precip_in>0</precip_in><humidity>49</humidity><cloud>40</cloud><feelslike_c>12.7</feelslike_c><feelslike_f>54.8</feelslike_f><windchill_c>12.7</windchill_c><windchill_f>54.8</windchill_f><heatindex_c>13</heatindex_c><heatindex_f>55.4</heatindex_f><dewpoint_c>2.2</dewpoint_c><dewpoint_f>35.9</dewpoint_f><will_it_rain>0</will_it_rain><chance_of_rain>1</chance_of_rain><will_it_snow>0</will_it_snow><chance_of_snow>0</chance_of_snow><vis_km>10</vis_km><vis_miles>6</vis_miles><gust_mph>6.2</gust_mph><gust_kph>10</gust_kph></hour><hour><time_epoch>1649235600</time_epoch><time>2022-04-06 11:00</time><temp_c>14.7</temp_c><temp_f>58.5</temp_f><is_day>1</is_day><condition><text>Partly cloudy</text><icon>//cdn.weatherapi.com/weather/64x64/day/116.png</icon><code>1003</code></condition><wind_mph>5.9</wind_mph><wind_kph>9.5</wind_kph><wind_degree>213</wind_degree><wind_dir>SSW</wind_dir><pressure_mb>1014</pressure_mb><pressure_in>29.94</pressure_in><precip_mm>0</precip_mm><precip_in>0</precip_in><humidity>42</humidity><cloud>35</cloud><feelslike_c>14.5</feelslike_c><feelslike_f>58.2</feelslike_f><windchill_c>14.5</windchill_c><windchill_f>58.2</windchill_f><heatindex_c>14.7</heatindex_c><heatindex_f>58.5</heatindex_f><dewpoint_c>1.7</dewpoint_c><dewpoint_f>35.1</dewpoint_f><will_it_rain>0</will_it_rain><chance_of_rain>1</chance_of_rain><will_it_snow>0</will_it_snow><chance_of_snow>0</chance_of_snow><vis_km>10</vis_km><vis_miles>6</vis_miles><gust_mph>7</gust_mph><gust_kph>11.3</gust_kph></hour><hour><time_epoch>1649239200</time_epoch><time>2022-04-06 12:00</time><temp_c>16.4</temp_c><temp_f>61.5</temp_f><is_day>1</is_day><condition><text>Partly cloudy</text><icon>//cdn.weatherapi.com/weather/64x64/day/116.png</icon><code>1003</code></condition><wind_mph>6.7</wind_mph><wind_kph>10.8</wind_kph><wind_degree>197</wind_degree><wind_dir>SSW</wind_dir><pressure_mb>1014</pressure_mb><pressure_in>29.94</pressure_in><precip_mm>0</precip_mm><precip_in>0</precip_in><humidity>36</humidity><cloud>30</cloud><feelslike_c>16.4</feelslike_c><feelslike_f>61.5</feelslike_f><windchill_c>16.4</windchill_c><windchill_f>61.5</windchill_f><heatindex_c>16.4</heatindex_c><heatindex_f>61.5</heatindex_f><dewpoint_c>1.3</dewpoint_c><dewpoint_f>34.3</dewpoint_f><will_it_rain>0</will_it_rain><chance_of_rain>0</chance_of_rain><will_it_snow>0</will_it_snow><chance_of_snow>0</chance_of_snow><vis_km>10</vis_km><vis_miles>6</vis_miles><gust_mph>7.8</gust_mph><gust_kph>12.6</gust_kph></hour><hour><time_epoch>1649242800</time_epoch><time>2022-04-06 13:00</time><temp_c>17.2</temp_c><temp_f>62.9</temp_f><is_day>1</is_day><condition><text>Partly cloudy</text><icon>//cdn.weatherapi.com/weather/64x64/day/116.png</icon><code>1003</code></condition><wind_mph>7.7</wind_mph><wind_kph>12.4</wind_kph><wind_degree>183</wind_degree><wind_dir>S</wind_dir><pressure_mb>1013</pressure_mb><pressure_in>29.92</pressure_in><precip_mm>0</precip_mm><precip_in>0</precip_in><humidity>35</humidity><cloud>31</cloud><feelslike_c>17.2</feelslike_c><feelslike_f>62.9</feelslike_f><windchill_c>17.2</windchill_c><windchill_f>62.9</windchill_f><heatindex_c>17.2</heatindex_c><heatindex_f>62.9</heatindex_f><dewpoint_c>1.6</dewpoint_c><dewpoint_f>34.9</dewpoint_f><will_it_rain>0</will_it_rain><chance_of_rain>1</chance_of_rain><will_it_snow>0</will_it_snow><chance_of_snow>0</chance_of_snow><vis_km>10</vis_km><vis_miles>6</vis_miles><gust_mph>8.9</gust_mph><gust_kph>14.4</gust_kph></hour><hour><time_epoch>1649246400</time_epoch><time>2022-04-06 14:00</time><temp_c>17.9</temp_c><temp_f>64.3</temp_f><is_day>1</is_day><condition><text>Partly cloudy</text><icon>//cdn.weatherapi.com/weather/64x64/day/116.png</icon><code>1003</code></condition><wind_mph>8.6</wind_mph><wind_kph>13.9</wind_kph><wind_degree>169</wind_degree><wind_dir>S</wind_dir><pressure_mb>1013</pressure_mb><pressure_in>29.91</pressure_in><precip_mm>0</precip_mm><precip_in>0</precip_in><humidity>34</humidity><cloud>32</cloud><feelslike_c>17.9</feelslike_c><feelslike_f>64.3</feelslike_f><windchill_c>17.9</windchill_c><windchill_f>64.3</windchill_f><heatindex_c>17.9</heatindex_c><heatindex_f>64.3</heatindex_f><dewpoint_c>1.9</dewpoint_c><dewpoint_f>35.4</dewpoint_f><will_it_rain>0</will_it_rain><chance_of_rain>1</chance_of_rain><will_it_snow>0</will_it_snow><chance_of_snow>0</chance_of_snow><vis_km>10</vis_km><vis_miles>6</vis_miles><gust_mph>10.1</gust_mph><gust_kph>16.2</gust_kph></hour><hour><time_epoch>1649250000</time_epoch><time>2022-04-06 15:00</time><temp_c>18.7</temp_c><temp_f>65.7</temp_f><is_day>1</is_day><condition><text>Partly cloudy</text><icon>//cdn.weatherapi.com/weather/64x64/day/116.png</icon><code>1003</code></condition><wind_mph>9.6</wind_mph><wind_kph>15.5</wind_kph><wind_degree>154</wind_degree><wind_dir>SSE</wind_dir><pressure_mb>1012</pressure_mb><pressure_in>29.89</pressure_in><precip_mm>0</precip_mm><precip_in>0</precip_in><humidity>33</humidity><cloud>33</cloud><feelslike_c>18.7</feelslike_c><feelslike_f>65.7</feelslike_f><windchill_c>18.7</windchill_c><windchill_f>65.7</windchill_f><heatindex_c>18.7</heatindex_c><heatindex_f>65.7</heatindex_f><dewpoint_c>2.2</dewpoint_c><dewpoint_f>36</dewpoint_f><will_it_rain>0</will_it_rain><chance_of_rain>0</chance_of_rain><will_it_snow>0</will_it_snow><chance_of_snow>0</chance_of_snow><vis_km>10</vis_km><vis_miles>6</vis_miles><gust_mph>11.2</gust_mph><gust_kph>18</gust_kph></hour><hour><time_epoch>1649253600</time_epoch><time>2022-04-06 16:00</time><temp_c>18</temp_c><temp_f>64.5</temp_f><is_day>1</is_day><condition><text>Partly cloudy</text><icon>//cdn.weatherapi.com/weather/64x64/day/116.png</icon><code>1003</code></condition><wind_mph>10.6</wind_mph><wind_kph>17</wind_kph><wind_degree>146</wind_degree><wind_dir>SSE</wind_dir><pressure_mb>1012</pressure_mb><pressure_in>29.9</pressure_in><precip_mm>0</precip_mm><precip_in>0</precip_in><humidity>39</humidity><cloud>32</cloud><feelslike_c>18</feelslike_c><feelslike_f>64.5</feelslike_f><windchill_c>18</windchill_c><windchill_f>64.5</windchill_f><heatindex_c>18</heatindex_c><heatindex_f>64.5</heatindex_f><dewpoint_c>3.7</dewpoint_c><dewpoint_f>38.7</dewpoint_f><will_it_rain>0</will_it_rain><chance_of_rain>1</chance_of_rain><will_it_snow>0</will_it_snow><chance_of_snow>0</chance_of_snow><vis_km>10</vis_km><vis_miles>6</vis_miles><gust_mph>12.7</gust_mph><gust_kph>20.4</gust_kph></hour><hour><time_epoch>1649257200</time_epoch><time>2022-04-06 17:00</time><temp_c>17.4</temp_c><temp_f>63.3</temp_f><is_day>1</is_day><condition><text>Partly cloudy</text><icon>//cdn.weatherapi.com/weather/64x64/day/116.png</icon><code>1003</code></condition><wind_mph>11.6</wind_mph><wind_kph>18.6</wind_kph><wind_degree>138</wind_degree><wind_dir>SE</wind_dir><pressure_mb>1013</pressure_mb><pressure_in>29.9</pressure_in><precip_mm>0</precip_mm><precip_in>0</precip_in><humidity>45</humidity><cloud>32</cloud><feelslike_c>17.4</feelslike_c><feelslike_f>63.3</feelslike_f><windchill_c>17.4</windchill_c><windchill_f>63.3</windchill_f><heatindex_c>17.4</heatindex_c><heatindex_f>63.3</heatindex_f><dewpoint_c>5.2</dewpoint_c><dewpoint_f>41.4</dewpoint_f><will_it_rain>0</will_it_rain><chance_of_rain>1</chance_of_rain><will_it_snow>0</will_it_snow><chance_of_snow>0</chance_of_snow><vis_km>10</vis_km><vis_miles>6</vis_miles><gust_mph>14.2</gust_mph><gust_kph>22.8</gust_kph></hour><hour><time_epoch>1649260800</time_epoch><time>2022-04-06 18:00</time><temp_c>16.7</temp_c><temp_f>62.1</temp_f><is_day>1</is_day><condition><text>Partly cloudy</text><icon>//cdn.weatherapi.com/weather/64x64/day/116.png</icon><code>1003</code></condition><wind_mph>12.5</wind_mph><wind_kph>20.2</wind_kph><wind_degree>130</wind_degree><wind_dir>SE</wind_dir><pressure_mb>1013</pressure_mb><pressure_in>29.9</pressure_in><precip_mm>0</precip_mm><precip_in>0</precip_in><humidity>52</humidity><cloud>32</cloud><feelslike_c>16.7</feelslike_c><feelslike_f>62.1</feelslike_f><windchill_c>16.7</windchill_c><windchill_f>62.1</windchill_f><heatindex_c>16.7</heatindex_c><heatindex_f>62.1</heatindex_f><dewpoint_c>6.7</dewpoint_c><dewpoint_f>44.1</dewpoint_f><will_it_rain>0</will_it_rain><chance_of_rain>0</chance_of_rain><will_it_snow>0</will_it_snow><chance_of_snow>0</chance_of_snow><vis_km>10</vis_km><vis_miles>6</vis_miles><gust_mph>15.7</gust_mph><gust_kph>25.2</gust_kph></hour><hour><time_epoch>1649264400</time_epoch><time>2022-04-06 19:00</time><temp_c>14.9</temp_c><temp_f>58.8</temp_f><is_day>1</is_day><condition><text>Partly cloudy</text><icon>//cdn.weatherapi.com/weather/64x64/day/116.png</icon><code>1003</code></condition><wind_mph>9</wind_mph><wind_kph>14.5</wind_kph><wind_degree>201</wind_degree><wind_dir>SSW</wind_dir><pressure_mb>1013</pressure_mb><pressure_in>29.93</pressure_in><precip_mm>0</precip_mm><precip_in>0</precip_in><humidity>57</humidity><cloud>30</cloud><feelslike_c>15</feelslike_c><feelslike_f>59.1</feelslike_f><windchill_c>15</windchill_c><windchill_f>59.1</windchill_f><heatindex_c>14.9</heatindex_c><heatindex_f>58.8</heatindex_f><dewpoint_c>6.4</dewpoint_c><dewpoint_f>43.5</dewpoint_f><will_it_rain>0</will_it_rain><chance_of_rain>1</chance_of_rain><will_it_snow>0</will_it_snow><chance_of_snow>0</chance_of_snow><vis_km>10</vis_km><vis_miles>6</vis_miles><gust_mph>11.9</gust_mph><gust_kph>19.1</gust_kph></hour><hour><time_epoch>1649268000</time_epoch><time>2022-04-06 20:00</time><temp_c>13</temp_c><temp_f>55.5</temp_f><is_day>1</is_day><condition><text>Partly cloudy</text><icon>//cdn.weatherapi.com/weather/64x64/day/116.png</icon><code>1003</code></condition><wind_mph>5.5</wind_mph><wind_kph>8.9</wind_kph><wind_degree>272</wind_degree><wind_dir>W</wind_dir><pressure_mb>1014</pressure_mb><pressure_in>29.95</pressure_in><precip_mm>0</precip_mm><precip_in>0</precip_in><humidity>63</humidity><cloud>28</cloud><feelslike_c>13.4</feelslike_c><feelslike_f>56.1</feelslike_f><windchill_c>13.4</windchill_c><windchill_f>56.1</windchill_f><heatindex_c>13</heatindex_c><heatindex_f>55.5</heatindex_f><dewpoint_c>6</dewpoint_c><dewpoint_f>42.9</dewpoint_f><will_it_rain>0</will_it_rain><chance_of_rain>1</chance_of_rain><will_it_snow>0</will_it_snow><chance_of_snow>0</chance_of_snow><vis_km>10</vis_km><vis_miles>6</vis_miles><gust_mph>8.1</gust_mph><gust_kph>13</gust_kph></hour><hour><time_epoch>1649271600</time_epoch><time>2022-04-06 21:00</time><temp_c>11.2</temp_c><temp_f>52.2</temp_f><is_day>0</is_day><condition><text>Partly cloudy</text><icon>//cdn.weatherapi.com/weather/64x64/night/116.png</icon><code>1003</code></condition><wind_mph>2</wind_mph><wind_kph>3.2</wind_kph><wind_degree>343</wind_degree><wind_dir>NNW</wind_dir><pressure_mb>1015</pressure_mb><pressure_in>29.98</pressure_in><precip_mm>0</precip_mm><precip_in>0</precip_in><humidity>69</humidity><cloud>26</cloud><feelslike_c>11.7</feelslike_c><feelslike_f>53.1</feelslike_f><windchill_c>11.7</windchill_c><windchill_f>53.1</windchill_f><heatindex_c>11.2</heatindex_c><heatindex_f>52.2</heatindex_f><dewpoint_c>5.7</dewpoint_c><dewpoint_f>42.3</dewpoint_f><will_it_rain>0</will_it_rain><chance_of_rain>0</chance_of_rain><will_it_snow>0</will_it_snow><chance_of_snow>0</chance_of_snow><vis_km>10</vis_km><vis_miles>6</vis_miles><gust_mph>4.3</gust_mph><gust_kph>6.8</gust_kph></hour><hour><time_epoch>1649275200</time_epoch><time>2022-04-06 22:00</time><temp_c>11.4</temp_c><temp_f>52.5</temp_f><is_day>0</is_day><condition><text>Partly cloudy</text><icon>//cdn.weatherapi.com/weather/64x64/night/116.png</icon><code>1003</code></condition><wind_mph>3.6</wind_mph><wind_kph>5.8</wind_kph><wind_degree>320</wind_degree><wind_dir>NW</wind_dir><pressure_mb>1016</pressure_mb><pressure_in>29.99</pressure_in><precip_mm>0</precip_mm><precip_in>0</precip_in><humidity>65</humidity><cloud>21</cloud><feelslike_c>11.3</feelslike_c><feelslike_f>52.3</feelslike_f><windchill_c>11.3</windchill_c><windchill_f>52.3</windchill_f><heatindex_c>11.4</heatindex_c><heatindex_f>52.5</heatindex_f><dewpoint_c>5</dewpoint_c><dewpoint_f>41</dewpoint_f><will_it_rain>0</will_it_rain><chance_of_rain>1</chance_of_rain><will_it_snow>0</will_it_snow><chance_of_snow>0</chance_of_snow><vis_km>10</vis_km><vis_miles>6</vis_miles><gust_mph>7.5</gust_mph><gust_kph>12.1</gust_kph></hour><hour><time_epoch>1649278800</time_epoch><time>2022-04-06 23:00</time><temp_c>11.5</temp_c><temp_f>52.8</temp_f><is_day>0</is_day><condition><text>Clear</text><icon>//cdn.weatherapi.com/weather/64x64/night/113.png</icon><code>1000</code></condition><wind_mph>5.1</wind_mph><wind_kph>8.3</wind_kph><wind_degree>298</wind_degree><wind_dir>WNW</wind_dir><pressure_mb>1016</pressure_mb><pressure_in>30</pressure_in><precip_mm>0</precip_mm><precip_in>0</precip_in><humidity>61</humidity><cloud>15</cloud><feelslike_c>10.9</feelslike_c><feelslike_f>51.6</feelslike_f><windchill_c>10.9</windchill_c><windchill_f>51.6</windchill_f><heatindex_c>11.5</heatindex_c><heatindex_f>52.8</heatindex_f><dewpoint_c>4.3</dewpoint_c><dewpoint_f>39.7</dewpoint_f><will_it_rain>0</will_it_rain><chance_of_rain>0</chance_of_rain><will_it_snow>0</will_it_snow><chance_of_snow>0</chance_of_snow><vis_km>10</vis_km><vis_miles>6</vis_miles><gust_mph>10.8</gust_mph><gust_kph>17.4</gust_kph></hour></forecastday></forecast></root>\n",
      "\n",
      "\n",
      "\n",
      "\n",
      "\n"
     ]
    }
   ],
   "source": [
    "for _ in data[5:]:\n",
    "    print(_)\n",
    "    print(\"\\n\\n\\n\\n\")"
   ]
  },
  {
   "cell_type": "code",
   "execution_count": 151,
   "id": "23714bf1",
   "metadata": {
    "scrolled": false
   },
   "outputs": [],
   "source": [
    "from lxml import etree\n",
    "\n",
    "root = etree.fromstring(data[0].encode())"
   ]
  },
  {
   "cell_type": "code",
   "execution_count": 152,
   "id": "2ca275b7",
   "metadata": {},
   "outputs": [
    {
     "data": {
      "text/plain": [
       "[<Element maxtemp_c at 0x7f4601d653c0>,\n",
       " <Element maxtemp_f at 0x7f4601d67c80>,\n",
       " <Element mintemp_c at 0x7f4601d64900>,\n",
       " <Element mintemp_f at 0x7f4601d654c0>,\n",
       " <Element avgtemp_c at 0x7f4601d65d40>,\n",
       " <Element avgtemp_f at 0x7f4601d662c0>,\n",
       " <Element maxwind_mph at 0x7f4601d65fc0>,\n",
       " <Element maxwind_kph at 0x7f4601d64280>,\n",
       " <Element totalprecip_mm at 0x7f4601d65480>,\n",
       " <Element totalprecip_in at 0x7f4601d678c0>,\n",
       " <Element avgvis_km at 0x7f4601d64240>,\n",
       " <Element avgvis_miles at 0x7f4601d66b00>,\n",
       " <Element avghumidity at 0x7f4601d66440>,\n",
       " <Element condition at 0x7f4601d64080>,\n",
       " <Element uv at 0x7f4601d66d00>]"
      ]
     },
     "execution_count": 152,
     "metadata": {},
     "output_type": "execute_result"
    }
   ],
   "source": [
    "root.find(\"forecast/forecastday/day\").getchildren()"
   ]
  },
  {
   "cell_type": "code",
   "execution_count": 153,
   "id": "9a40bce4",
   "metadata": {},
   "outputs": [
    {
     "data": {
      "text/plain": [
       "'Light rain shower'"
      ]
     },
     "execution_count": 153,
     "metadata": {},
     "output_type": "execute_result"
    }
   ],
   "source": [
    "t = root.find(\"forecast/forecastday/day/condition/text\")\n",
    "t.text"
   ]
  },
  {
   "cell_type": "code",
   "execution_count": 154,
   "id": "ef3bfb6a",
   "metadata": {},
   "outputs": [],
   "source": [
    "client.close()"
   ]
  },
  {
   "cell_type": "markdown",
   "id": "a022755a",
   "metadata": {},
   "source": [
    "## Unemployment Processor tests"
   ]
  },
  {
   "cell_type": "code",
   "execution_count": 2,
   "id": "957b82c4",
   "metadata": {},
   "outputs": [
    {
     "data": {
      "text/plain": [
       "<Element html at 0x7fae7b2d95d0>"
      ]
     },
     "execution_count": 2,
     "metadata": {},
     "output_type": "execute_result"
    }
   ],
   "source": [
    "from lxml import html\n",
    "import httpx\n",
    "\n",
    "response = httpx.get(\"https://www.bls.gov/web/laus/lauhsthl.htm\")\n",
    "response.raise_for_status()\n",
    "\n",
    "tree = html.fromstring(response.text)\n",
    "tree"
   ]
  },
  {
   "cell_type": "code",
   "execution_count": 4,
   "id": "abbca319",
   "metadata": {},
   "outputs": [
    {
     "data": {
      "text/plain": [
       "<Element table at 0x7fae7a0f9d50>"
      ]
     },
     "execution_count": 4,
     "metadata": {},
     "output_type": "execute_result"
    }
   ],
   "source": [
    "table = tree.get_element_by_id(\"lauhsthl\")\n",
    "table"
   ]
  },
  {
   "cell_type": "code",
   "execution_count": 43,
   "id": "f8ee3422",
   "metadata": {},
   "outputs": [
    {
     "data": {
      "text/plain": [
       "' March     25, 2022'"
      ]
     },
     "execution_count": 43,
     "metadata": {},
     "output_type": "execute_result"
    }
   ],
   "source": [
    "*_, raw_date = update_tag.itertext()\n",
    "raw_date"
   ]
  },
  {
   "cell_type": "code",
   "execution_count": 45,
   "id": "62ca045e",
   "metadata": {},
   "outputs": [
    {
     "data": {
      "text/plain": [
       "'March 25 2022'"
      ]
     },
     "execution_count": 45,
     "metadata": {},
     "output_type": "execute_result"
    }
   ],
   "source": [
    "date = \" \".join(re.findall(\"\\w+\", raw_date))\n",
    "date"
   ]
  },
  {
   "cell_type": "code",
   "execution_count": 18,
   "id": "ad6b2233",
   "metadata": {},
   "outputs": [
    {
     "data": {
      "text/plain": [
       "' March     25, 2022'"
      ]
     },
     "execution_count": 18,
     "metadata": {},
     "output_type": "execute_result"
    }
   ],
   "source": [
    "update_tag, *_ = tree.xpath(\"//p[@class='update']\")\n",
    "current_month = list(update_tag.itertext())[-1].split(\"\\s\")[0]\n",
    "current_month"
   ]
  },
  {
   "cell_type": "code",
   "execution_count": 40,
   "id": "26f0a810",
   "metadata": {},
   "outputs": [
    {
     "data": {
      "text/plain": [
       "datetime.datetime(2022, 3, 25, 0, 0)"
      ]
     },
     "execution_count": 40,
     "metadata": {},
     "output_type": "execute_result"
    }
   ],
   "source": [
    "date = \" \".join(re.findall(\"\\w+\", current_month))\n",
    "dd = datetime.strptime(date, \"%B %d %Y\")\n",
    "dd"
   ]
  },
  {
   "cell_type": "code",
   "execution_count": 26,
   "id": "137a4ccd",
   "metadata": {},
   "outputs": [
    {
     "data": {
      "text/plain": [
       "'March'"
      ]
     },
     "execution_count": 26,
     "metadata": {},
     "output_type": "execute_result"
    }
   ],
   "source": [
    "import re\n",
    "\n",
    "_MONTH_REGEX = re.compile(\"January|February|March|April|May|June|July|August|September|October|November|December\")\n",
    "\n",
    "_MONTH_REGEX.findall(current_month)[0]"
   ]
  },
  {
   "cell_type": "code",
   "execution_count": 29,
   "id": "d2f6f5aa",
   "metadata": {},
   "outputs": [
    {
     "name": "stdout",
     "output_type": "stream",
     "text": [
      "Help on class timedelta in module datetime:\n",
      "\n",
      "class timedelta(builtins.object)\n",
      " |  Difference between two datetime values.\n",
      " |  \n",
      " |  timedelta(days=0, seconds=0, microseconds=0, milliseconds=0, minutes=0, hours=0, weeks=0)\n",
      " |  \n",
      " |  All arguments are optional and default to 0.\n",
      " |  Arguments may be integers or floats, and may be positive or negative.\n",
      " |  \n",
      " |  Methods defined here:\n",
      " |  \n",
      " |  __abs__(self, /)\n",
      " |      abs(self)\n",
      " |  \n",
      " |  __add__(self, value, /)\n",
      " |      Return self+value.\n",
      " |  \n",
      " |  __bool__(self, /)\n",
      " |      self != 0\n",
      " |  \n",
      " |  __divmod__(self, value, /)\n",
      " |      Return divmod(self, value).\n",
      " |  \n",
      " |  __eq__(self, value, /)\n",
      " |      Return self==value.\n",
      " |  \n",
      " |  __floordiv__(self, value, /)\n",
      " |      Return self//value.\n",
      " |  \n",
      " |  __ge__(self, value, /)\n",
      " |      Return self>=value.\n",
      " |  \n",
      " |  __getattribute__(self, name, /)\n",
      " |      Return getattr(self, name).\n",
      " |  \n",
      " |  __gt__(self, value, /)\n",
      " |      Return self>value.\n",
      " |  \n",
      " |  __hash__(self, /)\n",
      " |      Return hash(self).\n",
      " |  \n",
      " |  __le__(self, value, /)\n",
      " |      Return self<=value.\n",
      " |  \n",
      " |  __lt__(self, value, /)\n",
      " |      Return self<value.\n",
      " |  \n",
      " |  __mod__(self, value, /)\n",
      " |      Return self%value.\n",
      " |  \n",
      " |  __mul__(self, value, /)\n",
      " |      Return self*value.\n",
      " |  \n",
      " |  __ne__(self, value, /)\n",
      " |      Return self!=value.\n",
      " |  \n",
      " |  __neg__(self, /)\n",
      " |      -self\n",
      " |  \n",
      " |  __pos__(self, /)\n",
      " |      +self\n",
      " |  \n",
      " |  __radd__(self, value, /)\n",
      " |      Return value+self.\n",
      " |  \n",
      " |  __rdivmod__(self, value, /)\n",
      " |      Return divmod(value, self).\n",
      " |  \n",
      " |  __reduce__(...)\n",
      " |      __reduce__() -> (cls, state)\n",
      " |  \n",
      " |  __repr__(self, /)\n",
      " |      Return repr(self).\n",
      " |  \n",
      " |  __rfloordiv__(self, value, /)\n",
      " |      Return value//self.\n",
      " |  \n",
      " |  __rmod__(self, value, /)\n",
      " |      Return value%self.\n",
      " |  \n",
      " |  __rmul__(self, value, /)\n",
      " |      Return value*self.\n",
      " |  \n",
      " |  __rsub__(self, value, /)\n",
      " |      Return value-self.\n",
      " |  \n",
      " |  __rtruediv__(self, value, /)\n",
      " |      Return value/self.\n",
      " |  \n",
      " |  __str__(self, /)\n",
      " |      Return str(self).\n",
      " |  \n",
      " |  __sub__(self, value, /)\n",
      " |      Return self-value.\n",
      " |  \n",
      " |  __truediv__(self, value, /)\n",
      " |      Return self/value.\n",
      " |  \n",
      " |  total_seconds(...)\n",
      " |      Total seconds in the duration.\n",
      " |  \n",
      " |  ----------------------------------------------------------------------\n",
      " |  Static methods defined here:\n",
      " |  \n",
      " |  __new__(*args, **kwargs) from builtins.type\n",
      " |      Create and return a new object.  See help(type) for accurate signature.\n",
      " |  \n",
      " |  ----------------------------------------------------------------------\n",
      " |  Data descriptors defined here:\n",
      " |  \n",
      " |  days\n",
      " |      Number of days.\n",
      " |  \n",
      " |  microseconds\n",
      " |      Number of microseconds (>= 0 and less than 1 second).\n",
      " |  \n",
      " |  seconds\n",
      " |      Number of seconds (>= 0 and less than 1 day).\n",
      " |  \n",
      " |  ----------------------------------------------------------------------\n",
      " |  Data and other attributes defined here:\n",
      " |  \n",
      " |  max = datetime.timedelta(days=999999999, seconds=86399, microseconds=9...\n",
      " |  \n",
      " |  min = datetime.timedelta(days=-999999999)\n",
      " |  \n",
      " |  resolution = datetime.timedelta(microseconds=1)\n",
      "\n"
     ]
    }
   ],
   "source": [
    "help(timedelta)"
   ]
  },
  {
   "cell_type": "code",
   "execution_count": 28,
   "id": "13146ccc",
   "metadata": {},
   "outputs": [
    {
     "ename": "TypeError",
     "evalue": "'months' is an invalid keyword argument for __new__()",
     "output_type": "error",
     "traceback": [
      "\u001b[0;31m---------------------------------------------------------------------------\u001b[0m",
      "\u001b[0;31mTypeError\u001b[0m                                 Traceback (most recent call last)",
      "Input \u001b[0;32mIn [28]\u001b[0m, in \u001b[0;36m<cell line: 3>\u001b[0;34m()\u001b[0m\n\u001b[1;32m      1\u001b[0m \u001b[38;5;28;01mfrom\u001b[39;00m \u001b[38;5;21;01mdatetime\u001b[39;00m \u001b[38;5;28;01mimport\u001b[39;00m datetime, timedelta\n\u001b[0;32m----> 3\u001b[0m (datetime\u001b[38;5;241m.\u001b[39mnow() \u001b[38;5;241m-\u001b[39m \u001b[43mtimedelta\u001b[49m\u001b[43m(\u001b[49m\u001b[43mmonths\u001b[49m\u001b[38;5;241;43m=\u001b[39;49m\u001b[38;5;241;43m1\u001b[39;49m\u001b[43m)\u001b[49m)\u001b[38;5;241m.\u001b[39mstrftime(\u001b[38;5;124m'\u001b[39m\u001b[38;5;124m%\u001b[39m\u001b[38;5;124mB\u001b[39m\u001b[38;5;124m'\u001b[39m)\n",
      "\u001b[0;31mTypeError\u001b[0m: 'months' is an invalid keyword argument for __new__()"
     ]
    }
   ],
   "source": [
    "from datetime import datetime, timedelta\n",
    "\n",
    "(datetime.now() - timedelta(months=1)).strftime('%B')"
   ]
  },
  {
   "cell_type": "code",
   "execution_count": 5,
   "id": "9a1ba307",
   "metadata": {},
   "outputs": [
    {
     "data": {
      "text/plain": [
       "'February 2022'"
      ]
     },
     "execution_count": 5,
     "metadata": {},
     "output_type": "execute_result"
    }
   ],
   "source": [
    "table.find(\"thead/tr/th[2]\").text"
   ]
  },
  {
   "cell_type": "code",
   "execution_count": 134,
   "id": "8801fbd4",
   "metadata": {},
   "outputs": [],
   "source": [
    "rows = table.find(\"tbody\").getchildren()"
   ]
  },
  {
   "cell_type": "code",
   "execution_count": 140,
   "id": "6aca3593",
   "metadata": {},
   "outputs": [
    {
     "data": {
      "text/plain": [
       "'Alabama'"
      ]
     },
     "execution_count": 140,
     "metadata": {},
     "output_type": "execute_result"
    }
   ],
   "source": [
    "rows[0].find(\"th/p\").text"
   ]
  },
  {
   "cell_type": "code",
   "execution_count": 146,
   "id": "c381388a",
   "metadata": {},
   "outputs": [
    {
     "data": {
      "text/plain": [
       "'3.0'"
      ]
     },
     "execution_count": 146,
     "metadata": {},
     "output_type": "execute_result"
    }
   ],
   "source": [
    "rows[0].find(\"td[1]/span\").text"
   ]
  }
 ],
 "metadata": {
  "kernelspec": {
   "display_name": "Python 3 (ipykernel)",
   "language": "python",
   "name": "python3"
  },
  "language_info": {
   "codemirror_mode": {
    "name": "ipython",
    "version": 3
   },
   "file_extension": ".py",
   "mimetype": "text/x-python",
   "name": "python",
   "nbconvert_exporter": "python",
   "pygments_lexer": "ipython3",
   "version": "3.10.0"
  }
 },
 "nbformat": 4,
 "nbformat_minor": 5
}
